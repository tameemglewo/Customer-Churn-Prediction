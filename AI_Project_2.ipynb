{
  "nbformat": 4,
  "nbformat_minor": 0,
  "metadata": {
    "colab": {
      "provenance": []
    },
    "kernelspec": {
      "name": "python3",
      "display_name": "Python 3"
    },
    "language_info": {
      "name": "python"
    }
  },
  "cells": [
    {
      "cell_type": "code",
      "execution_count": 1,
      "metadata": {
        "colab": {
          "base_uri": "https://localhost:8080/"
        },
        "id": "ZPzwoyXLwxqC",
        "outputId": "beaec491-ea11-40ee-9483-661a491828e6"
      },
      "outputs": [
        {
          "output_type": "stream",
          "name": "stdout",
          "text": [
            "Requirement already satisfied: kaggle in /usr/local/lib/python3.10/dist-packages (1.5.16)\n",
            "Requirement already satisfied: six>=1.10 in /usr/local/lib/python3.10/dist-packages (from kaggle) (1.16.0)\n",
            "Requirement already satisfied: certifi in /usr/local/lib/python3.10/dist-packages (from kaggle) (2024.2.2)\n",
            "Requirement already satisfied: python-dateutil in /usr/local/lib/python3.10/dist-packages (from kaggle) (2.8.2)\n",
            "Requirement already satisfied: requests in /usr/local/lib/python3.10/dist-packages (from kaggle) (2.31.0)\n",
            "Requirement already satisfied: tqdm in /usr/local/lib/python3.10/dist-packages (from kaggle) (4.66.2)\n",
            "Requirement already satisfied: python-slugify in /usr/local/lib/python3.10/dist-packages (from kaggle) (8.0.4)\n",
            "Requirement already satisfied: urllib3 in /usr/local/lib/python3.10/dist-packages (from kaggle) (2.0.7)\n",
            "Requirement already satisfied: bleach in /usr/local/lib/python3.10/dist-packages (from kaggle) (6.1.0)\n",
            "Requirement already satisfied: webencodings in /usr/local/lib/python3.10/dist-packages (from bleach->kaggle) (0.5.1)\n",
            "Requirement already satisfied: text-unidecode>=1.3 in /usr/local/lib/python3.10/dist-packages (from python-slugify->kaggle) (1.3)\n",
            "Requirement already satisfied: charset-normalizer<4,>=2 in /usr/local/lib/python3.10/dist-packages (from requests->kaggle) (3.3.2)\n",
            "Requirement already satisfied: idna<4,>=2.5 in /usr/local/lib/python3.10/dist-packages (from requests->kaggle) (3.7)\n"
          ]
        }
      ],
      "source": [
        "!pip install kaggle\n"
      ]
    },
    {
      "cell_type": "code",
      "source": [
        "from google.colab import files\n",
        "files.upload()\n"
      ],
      "metadata": {
        "id": "PgmBIURZy-f9",
        "colab": {
          "base_uri": "https://localhost:8080/",
          "height": 90
        },
        "outputId": "5d51e03e-26e7-46f1-ff4a-19109de99129"
      },
      "execution_count": 3,
      "outputs": [
        {
          "output_type": "display_data",
          "data": {
            "text/plain": [
              "<IPython.core.display.HTML object>"
            ],
            "text/html": [
              "\n",
              "     <input type=\"file\" id=\"files-fb10e5ad-8917-4405-bb86-e601995f994d\" name=\"files[]\" multiple disabled\n",
              "        style=\"border:none\" />\n",
              "     <output id=\"result-fb10e5ad-8917-4405-bb86-e601995f994d\">\n",
              "      Upload widget is only available when the cell has been executed in the\n",
              "      current browser session. Please rerun this cell to enable.\n",
              "      </output>\n",
              "      <script>// Copyright 2017 Google LLC\n",
              "//\n",
              "// Licensed under the Apache License, Version 2.0 (the \"License\");\n",
              "// you may not use this file except in compliance with the License.\n",
              "// You may obtain a copy of the License at\n",
              "//\n",
              "//      http://www.apache.org/licenses/LICENSE-2.0\n",
              "//\n",
              "// Unless required by applicable law or agreed to in writing, software\n",
              "// distributed under the License is distributed on an \"AS IS\" BASIS,\n",
              "// WITHOUT WARRANTIES OR CONDITIONS OF ANY KIND, either express or implied.\n",
              "// See the License for the specific language governing permissions and\n",
              "// limitations under the License.\n",
              "\n",
              "/**\n",
              " * @fileoverview Helpers for google.colab Python module.\n",
              " */\n",
              "(function(scope) {\n",
              "function span(text, styleAttributes = {}) {\n",
              "  const element = document.createElement('span');\n",
              "  element.textContent = text;\n",
              "  for (const key of Object.keys(styleAttributes)) {\n",
              "    element.style[key] = styleAttributes[key];\n",
              "  }\n",
              "  return element;\n",
              "}\n",
              "\n",
              "// Max number of bytes which will be uploaded at a time.\n",
              "const MAX_PAYLOAD_SIZE = 100 * 1024;\n",
              "\n",
              "function _uploadFiles(inputId, outputId) {\n",
              "  const steps = uploadFilesStep(inputId, outputId);\n",
              "  const outputElement = document.getElementById(outputId);\n",
              "  // Cache steps on the outputElement to make it available for the next call\n",
              "  // to uploadFilesContinue from Python.\n",
              "  outputElement.steps = steps;\n",
              "\n",
              "  return _uploadFilesContinue(outputId);\n",
              "}\n",
              "\n",
              "// This is roughly an async generator (not supported in the browser yet),\n",
              "// where there are multiple asynchronous steps and the Python side is going\n",
              "// to poll for completion of each step.\n",
              "// This uses a Promise to block the python side on completion of each step,\n",
              "// then passes the result of the previous step as the input to the next step.\n",
              "function _uploadFilesContinue(outputId) {\n",
              "  const outputElement = document.getElementById(outputId);\n",
              "  const steps = outputElement.steps;\n",
              "\n",
              "  const next = steps.next(outputElement.lastPromiseValue);\n",
              "  return Promise.resolve(next.value.promise).then((value) => {\n",
              "    // Cache the last promise value to make it available to the next\n",
              "    // step of the generator.\n",
              "    outputElement.lastPromiseValue = value;\n",
              "    return next.value.response;\n",
              "  });\n",
              "}\n",
              "\n",
              "/**\n",
              " * Generator function which is called between each async step of the upload\n",
              " * process.\n",
              " * @param {string} inputId Element ID of the input file picker element.\n",
              " * @param {string} outputId Element ID of the output display.\n",
              " * @return {!Iterable<!Object>} Iterable of next steps.\n",
              " */\n",
              "function* uploadFilesStep(inputId, outputId) {\n",
              "  const inputElement = document.getElementById(inputId);\n",
              "  inputElement.disabled = false;\n",
              "\n",
              "  const outputElement = document.getElementById(outputId);\n",
              "  outputElement.innerHTML = '';\n",
              "\n",
              "  const pickedPromise = new Promise((resolve) => {\n",
              "    inputElement.addEventListener('change', (e) => {\n",
              "      resolve(e.target.files);\n",
              "    });\n",
              "  });\n",
              "\n",
              "  const cancel = document.createElement('button');\n",
              "  inputElement.parentElement.appendChild(cancel);\n",
              "  cancel.textContent = 'Cancel upload';\n",
              "  const cancelPromise = new Promise((resolve) => {\n",
              "    cancel.onclick = () => {\n",
              "      resolve(null);\n",
              "    };\n",
              "  });\n",
              "\n",
              "  // Wait for the user to pick the files.\n",
              "  const files = yield {\n",
              "    promise: Promise.race([pickedPromise, cancelPromise]),\n",
              "    response: {\n",
              "      action: 'starting',\n",
              "    }\n",
              "  };\n",
              "\n",
              "  cancel.remove();\n",
              "\n",
              "  // Disable the input element since further picks are not allowed.\n",
              "  inputElement.disabled = true;\n",
              "\n",
              "  if (!files) {\n",
              "    return {\n",
              "      response: {\n",
              "        action: 'complete',\n",
              "      }\n",
              "    };\n",
              "  }\n",
              "\n",
              "  for (const file of files) {\n",
              "    const li = document.createElement('li');\n",
              "    li.append(span(file.name, {fontWeight: 'bold'}));\n",
              "    li.append(span(\n",
              "        `(${file.type || 'n/a'}) - ${file.size} bytes, ` +\n",
              "        `last modified: ${\n",
              "            file.lastModifiedDate ? file.lastModifiedDate.toLocaleDateString() :\n",
              "                                    'n/a'} - `));\n",
              "    const percent = span('0% done');\n",
              "    li.appendChild(percent);\n",
              "\n",
              "    outputElement.appendChild(li);\n",
              "\n",
              "    const fileDataPromise = new Promise((resolve) => {\n",
              "      const reader = new FileReader();\n",
              "      reader.onload = (e) => {\n",
              "        resolve(e.target.result);\n",
              "      };\n",
              "      reader.readAsArrayBuffer(file);\n",
              "    });\n",
              "    // Wait for the data to be ready.\n",
              "    let fileData = yield {\n",
              "      promise: fileDataPromise,\n",
              "      response: {\n",
              "        action: 'continue',\n",
              "      }\n",
              "    };\n",
              "\n",
              "    // Use a chunked sending to avoid message size limits. See b/62115660.\n",
              "    let position = 0;\n",
              "    do {\n",
              "      const length = Math.min(fileData.byteLength - position, MAX_PAYLOAD_SIZE);\n",
              "      const chunk = new Uint8Array(fileData, position, length);\n",
              "      position += length;\n",
              "\n",
              "      const base64 = btoa(String.fromCharCode.apply(null, chunk));\n",
              "      yield {\n",
              "        response: {\n",
              "          action: 'append',\n",
              "          file: file.name,\n",
              "          data: base64,\n",
              "        },\n",
              "      };\n",
              "\n",
              "      let percentDone = fileData.byteLength === 0 ?\n",
              "          100 :\n",
              "          Math.round((position / fileData.byteLength) * 100);\n",
              "      percent.textContent = `${percentDone}% done`;\n",
              "\n",
              "    } while (position < fileData.byteLength);\n",
              "  }\n",
              "\n",
              "  // All done.\n",
              "  yield {\n",
              "    response: {\n",
              "      action: 'complete',\n",
              "    }\n",
              "  };\n",
              "}\n",
              "\n",
              "scope.google = scope.google || {};\n",
              "scope.google.colab = scope.google.colab || {};\n",
              "scope.google.colab._files = {\n",
              "  _uploadFiles,\n",
              "  _uploadFilesContinue,\n",
              "};\n",
              "})(self);\n",
              "</script> "
            ]
          },
          "metadata": {}
        },
        {
          "output_type": "stream",
          "name": "stdout",
          "text": [
            "Saving kaggle.json to kaggle.json\n"
          ]
        },
        {
          "output_type": "execute_result",
          "data": {
            "text/plain": [
              "{'kaggle.json': b'{\"username\":\"tameemglewo\",\"key\":\"fdbef9b3ea90dc62248656b02ba2201e\"}'}"
            ]
          },
          "metadata": {},
          "execution_count": 3
        }
      ]
    },
    {
      "cell_type": "code",
      "source": [
        "!mkdir ~/.kaggle\n",
        "!cp kaggle.json ~/.kaggle/\n",
        "!chmod 600 ~/.kaggle/kaggle.json\n",
        "!kaggle datasets list\n"
      ],
      "metadata": {
        "colab": {
          "base_uri": "https://localhost:8080/"
        },
        "id": "GLk674M5zKvY",
        "outputId": "881213d4-1f29-4fb1-cbdf-a338c0257460"
      },
      "execution_count": 4,
      "outputs": [
        {
          "output_type": "stream",
          "name": "stdout",
          "text": [
            "mkdir: cannot create directory ‘/root/.kaggle’: File exists\n",
            "Warning: Looks like you're using an outdated API Version, please consider updating (server 1.6.12 / client 1.5.16)\n",
            "ref                                                    title                                           size  lastUpdated          downloadCount  voteCount  usabilityRating  \n",
            "-----------------------------------------------------  ---------------------------------------------  -----  -------------------  -------------  ---------  ---------------  \n",
            "rahulvyasm/netflix-movies-and-tv-shows                 Netflix Movies and TV Shows                      1MB  2024-04-10 09:48:38           5605        120  1.0              \n",
            "mexwell/heart-disease-dataset                          🫀 Heart Disease Dataset                        399KB  2024-04-08 09:43:49           2967         55  1.0              \n",
            "sudarshan24byte/online-food-dataset                    Online Food Dataset                              3KB  2024-03-02 18:50:30          32515        616  0.9411765        \n",
            "mohdshahnawazaadil/sales-prediction-dataset            Sales prediction dataset                        31KB  2024-04-02 00:10:42           1104         24  1.0              \n",
            "fatemehmehrparvar/obesity-levels                       Obesity Levels                                  58KB  2024-04-07 16:28:30           4281         65  0.88235295       \n",
            "sahirmaharajj/youth-tobacco-survey                     Youth Tobacco Dataset (2 Decades)              264KB  2024-04-11 20:19:31           1216         25  1.0              \n",
            "prishasawhney/mushroom-dataset                         Mushroom Dataset (Binary Classification)       602KB  2024-04-18 19:56:44           1127         60  1.0              \n",
            "alistairking/u-s-co2-emissions                         CO2 Emissions (in U.S.)                        546KB  2024-04-20 21:22:34            602         26  1.0              \n",
            "asaniczka/university-employee-salaries-2011-present    University Employee Salaries (2011 - Present)   17MB  2024-04-07 10:11:15           2175         52  1.0              \n",
            "startalks/pii-models                                   pii-models                                       1GB  2024-03-21 21:23:40            211         27  1.0              \n",
            "nextmillionaire/programming-languages-trend-over-time  Programming Languages Trend Over Time            2KB  2024-04-22 22:04:57            532         23  0.7647059        \n",
            "aliredaelblgihy/social-media-engagement-report         Social Media Engagement Report                  47MB  2024-04-13 13:06:29            968         29  0.8235294        \n",
            "bhavikjikadara/student-study-performance               Student Study Performance                        9KB  2024-03-07 06:14:09          15577        188  1.0              \n",
            "prishasawhney/good-reads-top-1000-books                Good Reads Dataset (Top 1000 Books)             26KB  2024-04-17 20:02:53            503         53  1.0              \n",
            "ultimus/football-salaries-dataset                      Football Player Salaries Dataset                 2MB  2024-04-15 17:56:44           1107         25  1.0              \n",
            "vladimirosmakris/house-pricing-index-united-states     house_pricing_index_united_states                9MB  2024-04-14 18:19:44            561         24  0.9411765        \n",
            "arnavsmayan/amazon-prime-userbase-dataset              Amazon Prime Userbase Dataset                  104KB  2024-04-15 06:25:10           1605         31  1.0              \n",
            "adilashrafi/thyroid-cancer-recurrenceclassification    Thyroid Cancer Recurrence||Classification🔔🔔🔔    172B  2024-04-22 03:49:01            323         33  0.875            \n",
            "sukhmandeepsinghbrar/water-quality                     Water Quality                                   49MB  2024-04-19 07:53:13            580         37  1.0              \n",
            "sunnykakar/spotify-charts-all-audio-data               Spotify Charts (All Audio Data)                  3GB  2024-04-15 20:15:15           1240         39  1.0              \n"
          ]
        }
      ]
    },
    {
      "cell_type": "code",
      "source": [
        "!kaggle datasets download -d radheshyamkollipara/bank-customer-churn\n",
        "!unzip bank-customer-churn.zip -d ./data"
      ],
      "metadata": {
        "colab": {
          "base_uri": "https://localhost:8080/"
        },
        "id": "MfaBTo650O9w",
        "outputId": "6f2cae53-30db-448e-bf59-9e85ee2f796e"
      },
      "execution_count": 8,
      "outputs": [
        {
          "output_type": "stream",
          "name": "stdout",
          "text": [
            "bank-customer-churn.zip: Skipping, found more recently modified local copy (use --force to force download)\n",
            "Archive:  bank-customer-churn.zip\n",
            "  inflating: ./data/Customer-Churn-Records.csv  \n"
          ]
        }
      ]
    },
    {
      "cell_type": "code",
      "source": [
        "import pandas as pd\n",
        "\n",
        "df = pd.read_csv(\"/content/data/Customer-Churn-Records.csv\", delimiter=',')\n",
        "\n",
        "\n",
        "print(\"rows of the dataset:\")\n",
        "print(df.head())\n",
        "\n",
        "\n",
        "print(\"Statistics of the attribute ('CreditScore'):\")\n",
        "print(\"Min: \", df['CreditScore'].min())\n",
        "print(\"Max: \", df['CreditScore'].max())\n",
        "print(\"Mean: \", df['CreditScore'].mean())\n",
        "print(\"Median: \", df['CreditScore'].median())\n",
        "\n",
        "print(\"Statistics of the attribute ('Age'):\")\n",
        "print(\"Min: \", df['Age'].min())\n",
        "print(\"Max: \", df['Age'].max())\n",
        "print(\"Mean: \", df['Age'].mean())\n",
        "print(\"Median: \", df['Age'].median())\n",
        "\n",
        "print(\"Statistics of the attribute ('Tenure'):\")\n",
        "print(\"Min: \", df['Tenure'].min())\n",
        "print(\"Max: \", df['Tenure'].max())\n",
        "print(\"Mean: \", df['Tenure'].mean())\n",
        "print(\"Median: \", df['Tenure'].median())\n",
        "\n",
        "print(\"Statistics of the attribute ('Balance'):\")\n",
        "print(\"Min: \", df['Balance'].min())\n",
        "print(\"Max: \", df['Balance'].max())\n",
        "print(\"Mean: \", df['Balance'].mean())\n",
        "print(\"Median: \", df['Balance'].median())\n",
        "\n",
        "print(\"Statistics of the attribute ('EstimatedSalary'):\")\n",
        "print(\"Min: \", df['EstimatedSalary'].min())\n",
        "print(\"Max: \", df['EstimatedSalary'].max())\n",
        "print(\"Mean: \", df['EstimatedSalary'].mean())\n",
        "print(\"Median: \", df['EstimatedSalary'].median())\n",
        "\n",
        "print(\"Statistics of the attribute ('Point Earned'):\")\n",
        "print(\"Min: \", df['Point Earned'].min())\n",
        "print(\"Max: \", df['Point Earned'].max())\n",
        "print(\"Mean: \", df['Point Earned'].mean())\n",
        "print(\"Median: \", df['Point Earned'].median())\n",
        "\n",
        "\n",
        "churn_distribution = df['Age'].value_counts()\n",
        "print(\"Distribution of the attribute ('Age'):\")\n",
        "print(churn_distribution)\n",
        "\n",
        "churn_distribution = df['Gender'].value_counts()\n",
        "print(\"Distribution of the attribute ('Gender'):\")\n",
        "print(churn_distribution)\n",
        "\n",
        "\n",
        "churn_distribution = df['Geography'].value_counts()\n",
        "print(\"Distribution of the attribute ('Geography'):\")\n",
        "print(churn_distribution)\n",
        "\n",
        "churn_distribution = df['Card Type'].value_counts()\n",
        "print(\"Distribution of the attribute ('Card Type'):\")\n",
        "print(churn_distribution)\n",
        "\n",
        "churn_distribution = df['HasCrCard'].value_counts()\n",
        "print(\"Distribution of the attribute ('HasCrCard'):\")\n",
        "print(churn_distribution)\n",
        "\n",
        "churn_distribution = df['Complain'].value_counts()\n",
        "print(\"Distribution of the attribute ('Complain'):\")\n",
        "print(churn_distribution)\n",
        "\n",
        "churn_distribution = df['Tenure'].value_counts()\n",
        "print(\"Distribution of the attribute ('Tenure'):\")\n",
        "print(churn_distribution)\n",
        "\n",
        "#input\n",
        "churn_distribution = df['Satisfaction Score'].value_counts()\n",
        "print(\"Distribution of the attribute ('Satisfaction Score'):\")\n",
        "print(churn_distribution)\n",
        "\n",
        "churn_distribution = df['IsActiveMember'].value_counts()\n",
        "print(\"Distribution of the attribute ('IsActiveMember'):\")\n",
        "print(churn_distribution)\n",
        "\n",
        "#attribute to be predicted\n",
        "churn_distribution = df['Exited'].value_counts()\n",
        "print(\"Distribution of the attribute ('Exited'):\")\n",
        "print(churn_distribution)\n"
      ],
      "metadata": {
        "id": "hlZl6lEE1Np3",
        "outputId": "700d9e80-f455-4bf7-8ba4-a99b8c3341fb",
        "colab": {
          "base_uri": "https://localhost:8080/"
        }
      },
      "execution_count": 11,
      "outputs": [
        {
          "output_type": "stream",
          "name": "stdout",
          "text": [
            "rows of the dataset:\n",
            "   RowNumber  CustomerId   Surname  CreditScore Geography  Gender  Age  \\\n",
            "0          1    15634602  Hargrave          619    France  Female   42   \n",
            "1          2    15647311      Hill          608     Spain  Female   41   \n",
            "2          3    15619304      Onio          502    France  Female   42   \n",
            "3          4    15701354      Boni          699    France  Female   39   \n",
            "4          5    15737888  Mitchell          850     Spain  Female   43   \n",
            "\n",
            "   Tenure    Balance  NumOfProducts  HasCrCard  IsActiveMember  \\\n",
            "0       2       0.00              1          1               1   \n",
            "1       1   83807.86              1          0               1   \n",
            "2       8  159660.80              3          1               0   \n",
            "3       1       0.00              2          0               0   \n",
            "4       2  125510.82              1          1               1   \n",
            "\n",
            "   EstimatedSalary  Exited  Complain  Satisfaction Score Card Type  \\\n",
            "0        101348.88       1         1                   2   DIAMOND   \n",
            "1        112542.58       0         1                   3   DIAMOND   \n",
            "2        113931.57       1         1                   3   DIAMOND   \n",
            "3         93826.63       0         0                   5      GOLD   \n",
            "4         79084.10       0         0                   5      GOLD   \n",
            "\n",
            "   Point Earned  \n",
            "0           464  \n",
            "1           456  \n",
            "2           377  \n",
            "3           350  \n",
            "4           425  \n",
            "Statistics of the attribute ('CreditScore'):\n",
            "Min:  350\n",
            "Max:  850\n",
            "Mean:  650.5288\n",
            "Median:  652.0\n",
            "Statistics of the attribute ('Age'):\n",
            "Min:  18\n",
            "Max:  92\n",
            "Mean:  38.9218\n",
            "Median:  37.0\n",
            "Statistics of the attribute ('Tenure'):\n",
            "Min:  0\n",
            "Max:  10\n",
            "Mean:  5.0128\n",
            "Median:  5.0\n",
            "Statistics of the attribute ('Balance'):\n",
            "Min:  0.0\n",
            "Max:  250898.09\n",
            "Mean:  76485.889288\n",
            "Median:  97198.54000000001\n",
            "Statistics of the attribute ('EstimatedSalary'):\n",
            "Min:  11.58\n",
            "Max:  199992.48\n",
            "Mean:  100090.239881\n",
            "Median:  100193.915\n",
            "Statistics of the attribute ('Point Earned'):\n",
            "Min:  119\n",
            "Max:  1000\n",
            "Mean:  606.5151\n",
            "Median:  605.0\n",
            "Distribution of the attribute ('Age'):\n",
            "Age\n",
            "37    478\n",
            "38    477\n",
            "35    474\n",
            "36    456\n",
            "34    447\n",
            "     ... \n",
            "92      2\n",
            "82      1\n",
            "88      1\n",
            "85      1\n",
            "83      1\n",
            "Name: count, Length: 70, dtype: int64\n",
            "Distribution of the attribute ('Gender'):\n",
            "Gender\n",
            "Male      5457\n",
            "Female    4543\n",
            "Name: count, dtype: int64\n",
            "Distribution of the attribute ('Geography'):\n",
            "Geography\n",
            "France     5014\n",
            "Germany    2509\n",
            "Spain      2477\n",
            "Name: count, dtype: int64\n",
            "Distribution of the attribute ('Card Type'):\n",
            "Card Type\n",
            "DIAMOND     2507\n",
            "GOLD        2502\n",
            "SILVER      2496\n",
            "PLATINUM    2495\n",
            "Name: count, dtype: int64\n",
            "Distribution of the attribute ('HasCrCard'):\n",
            "HasCrCard\n",
            "1    7055\n",
            "0    2945\n",
            "Name: count, dtype: int64\n",
            "Distribution of the attribute ('Complain'):\n",
            "Complain\n",
            "0    7956\n",
            "1    2044\n",
            "Name: count, dtype: int64\n",
            "Distribution of the attribute ('Tenure'):\n",
            "Tenure\n",
            "2     1048\n",
            "1     1035\n",
            "7     1028\n",
            "8     1025\n",
            "5     1012\n",
            "3     1009\n",
            "4      989\n",
            "9      984\n",
            "6      967\n",
            "10     490\n",
            "0      413\n",
            "Name: count, dtype: int64\n",
            "Distribution of the attribute ('Satisfaction Score'):\n",
            "Satisfaction Score\n",
            "3    2042\n",
            "2    2014\n",
            "4    2008\n",
            "5    2004\n",
            "1    1932\n",
            "Name: count, dtype: int64\n",
            "Distribution of the attribute ('IsActiveMember'):\n",
            "IsActiveMember\n",
            "1    5151\n",
            "0    4849\n",
            "Name: count, dtype: int64\n",
            "Distribution of the attribute ('Exited'):\n",
            "Exited\n",
            "0    7962\n",
            "1    2038\n",
            "Name: count, dtype: int64\n"
          ]
        }
      ]
    },
    {
      "cell_type": "code",
      "source": [
        "import matplotlib.pyplot as pp\n",
        "\n",
        "pp.hist(df['Age'])\n",
        "pp.title('Distribution of Age')\n",
        "pp.xlabel('Age')\n",
        "pp.ylabel('Frequency')\n",
        "pp.show()\n",
        "\n",
        "pp.hist(df['Gender'])\n",
        "pp.title('Distribution of Gender')\n",
        "pp.xlabel('Gender')\n",
        "pp.ylabel('Frequency')\n",
        "pp.show()\n",
        "\n",
        "pp.hist(df['Geography'])\n",
        "pp.title('Distribution of Geography')\n",
        "pp.xlabel('Geography')\n",
        "pp.ylabel('Frequency')\n",
        "pp.show()\n",
        "\n",
        "\n",
        "pp.hist(df['Card Type'])\n",
        "pp.title('Distribution of Card Type')\n",
        "pp.xlabel('Card Type')\n",
        "pp.ylabel('Frequency')\n",
        "pp.show()\n",
        "\n",
        "#input\n",
        "pp.hist(df['Satisfaction Score'])\n",
        "pp.title('Distribution of Satisfaction Score')\n",
        "pp.xlabel('Satisfaction Score')\n",
        "pp.ylabel('Frequency')\n",
        "pp.show()\n",
        "\n",
        "pp.hist(df['IsActiveMember'])\n",
        "pp.title('Distribution of IsActiveMember')\n",
        "pp.xlabel('IsActiveMember')\n",
        "pp.ylabel('Frequency')\n",
        "pp.show()\n",
        "\n",
        "\n",
        "#attribute to be predicted\n",
        "pp.hist(df['Exited'])\n",
        "pp.title('Distribution of Exited')\n",
        "pp.xlabel('Exited')\n",
        "pp.ylabel('Frequency')\n",
        "pp.show()\n"
      ],
      "metadata": {
        "id": "aORr3_g-PSPj",
        "colab": {
          "base_uri": "https://localhost:8080/",
          "height": 1000
        },
        "outputId": "4936edb1-f4a4-4fc8-bf74-3fd6c8d63ab8"
      },
      "execution_count": 12,
      "outputs": [
        {
          "output_type": "display_data",
          "data": {
            "text/plain": [
              "<Figure size 640x480 with 1 Axes>"
            ],
            "image/png": "[encoded data removed]"
          },
          "metadata": {}
        },
        {
          "output_type": "display_data",
          "data": {
            "text/plain": [
              "<Figure size 640x480 with 1 Axes>"
            ],
            "image/png": "[encoded data removed]"
          },
          "metadata": {}
        },
        {
          "output_type": "display_data",
          "data": {
            "text/plain": [
              "<Figure size 640x480 with 1 Axes>"
            ],
            "image/png": "[encoded data removed]"
          },
          "metadata": {}
        },
        {
          "output_type": "display_data",
          "data": {
            "text/plain": [
              "<Figure size 640x480 with 1 Axes>"
            ],
            "image/png": "[encoded data removed]"
          },
          "metadata": {}
        },
        {
          "output_type": "display_data",
          "data": {
            "text/plain": [
              "<Figure size 640x480 with 1 Axes>"
            ],
            "image/png": "[encoded data removed]"
          },
          "metadata": {}
        },
        {
          "output_type": "display_data",
          "data": {
            "text/plain": [
              "<Figure size 640x480 with 1 Axes>"
            ],
            "image/png": "[encoded data removed]"
          },
          "metadata": {}
        },
        {
          "output_type": "display_data",
          "data": {
            "text/plain": [
              "<Figure size 640x480 with 1 Axes>"
            ],
            "image/png": "[encoded data removed]"
          },
          "metadata": {}
        }
      ]
    },
    {
      "cell_type": "code",
      "source": [
        "import keras\n",
        "from keras.models import Sequential\n",
        "from keras.layers import Dense\n",
        "classifier = Sequential()\n",
        "#first layer\n",
        "classifier.add(Dense(units=16, kernel_initializer='uniform', activation='relu', input_dim=15))"
      ],
      "metadata": {
        "id": "WJHdWwP1qj1i"
      },
      "execution_count": 13,
      "outputs": []
    },
    {
      "cell_type": "code",
      "source": [
        "#second layer\n",
        "classifier.add(Dense(units = 32, kernel_initializer = 'uniform', activation = 'relu'))"
      ],
      "metadata": {
        "id": "pXJqa1pd81RT"
      },
      "execution_count": 14,
      "outputs": []
    },
    {
      "cell_type": "code",
      "source": [
        "#output layer\n",
        "classifier.add(Dense(units = 1, kernel_initializer = 'uniform', activation = 'sigmoid'))\n"
      ],
      "metadata": {
        "id": "rj4RCTrk7WM0"
      },
      "execution_count": 15,
      "outputs": []
    },
    {
      "cell_type": "code",
      "source": [
        "classifier.compile(optimizer = 'adam', loss = 'binary_crossentropy', metrics = ['accuracy'])"
      ],
      "metadata": {
        "id": "to38g5948Q9x"
      },
      "execution_count": 16,
      "outputs": []
    },
    {
      "cell_type": "code",
      "source": [
        "# put labels into y_train variable\n",
        "Y_train = df[\"Exited\"]\n",
        "# Drop 'label' column\n",
        "X_train = df.drop(labels = [\"Exited\"],axis = 1)"
      ],
      "metadata": {
        "id": "CMQDCGpmC-XQ"
      },
      "execution_count": 17,
      "outputs": []
    },
    {
      "cell_type": "code",
      "source": [
        "X_train = X_train.drop(['RowNumber', 'CustomerId', 'Surname', 'Geography', 'Gender'], axis=1)\n",
        "#encode\n",
        "X_train = pd.get_dummies(X_train, columns=['Card Type'])\n",
        "numerical_columns = ['CreditScore', 'Age','Tenure','Balance','NumOfProducts','HasCrCard','IsActiveMember','EstimatedSalary','Complain','Satisfaction Score','Point Earned']\n",
        "\n",
        "X_train[numerical_columns] = (X_train[numerical_columns] - X_train[numerical_columns].min()) / (X_train[numerical_columns].max() - X_train[numerical_columns].min())\n"
      ],
      "metadata": {
        "id": "E1152LI5OzuH"
      },
      "execution_count": 18,
      "outputs": []
    },
    {
      "cell_type": "code",
      "source": [
        "X_train.info()"
      ],
      "metadata": {
        "id": "RE_2P6YlSyfC",
        "colab": {
          "base_uri": "https://localhost:8080/"
        },
        "outputId": "7253571c-e847-482e-acb8-c47125915d1d"
      },
      "execution_count": 19,
      "outputs": [
        {
          "output_type": "stream",
          "name": "stdout",
          "text": [
            "<class 'pandas.core.frame.DataFrame'>\n",
            "RangeIndex: 10000 entries, 0 to 9999\n",
            "Data columns (total 15 columns):\n",
            " #   Column              Non-Null Count  Dtype  \n",
            "---  ------              --------------  -----  \n",
            " 0   CreditScore         10000 non-null  float64\n",
            " 1   Age                 10000 non-null  float64\n",
            " 2   Tenure              10000 non-null  float64\n",
            " 3   Balance             10000 non-null  float64\n",
            " 4   NumOfProducts       10000 non-null  float64\n",
            " 5   HasCrCard           10000 non-null  float64\n",
            " 6   IsActiveMember      10000 non-null  float64\n",
            " 7   EstimatedSalary     10000 non-null  float64\n",
            " 8   Complain            10000 non-null  float64\n",
            " 9   Satisfaction Score  10000 non-null  float64\n",
            " 10  Point Earned        10000 non-null  float64\n",
            " 11  Card Type_DIAMOND   10000 non-null  bool   \n",
            " 12  Card Type_GOLD      10000 non-null  bool   \n",
            " 13  Card Type_PLATINUM  10000 non-null  bool   \n",
            " 14  Card Type_SILVER    10000 non-null  bool   \n",
            "dtypes: bool(4), float64(11)\n",
            "memory usage: 898.6 KB\n"
          ]
        }
      ]
    },
    {
      "cell_type": "code",
      "source": [
        "# fit ANN to the dataset\n",
        "import numpy as np\n",
        "\n",
        "# Convert data types if necessary\n",
        "if X_train.dtype != np.float32:\n",
        "    X_train = X_train.astype(np.float32)\n",
        "\n",
        "if Y_train.dtype != np.float32:\n",
        "    Y_train = Y_train.astype(np.float32)\n",
        "\n",
        "\n",
        "# Fit the ANN\n",
        "classifier.fit(X_train, Y_train, batch_size=10, epochs=100)\n"
      ],
      "metadata": {
        "id": "K-XeXbErCc9B",
        "colab": {
          "base_uri": "https://localhost:8080/"
        },
        "outputId": "9925de9f-d603-4094-88ef-1a49396bc3a1"
      },
      "execution_count": 27,
      "outputs": [
        {
          "output_type": "stream",
          "name": "stdout",
          "text": [
            "object\n",
            "int64\n",
            "False\n",
            "False\n",
            "Epoch 1/100\n",
            "1000/1000 [==============================] - 5s 4ms/step - loss: 0.1289 - accuracy: 0.9551\n",
            "Epoch 2/100\n",
            "1000/1000 [==============================] - 2s 2ms/step - loss: 0.0102 - accuracy: 0.9986\n",
            "Epoch 3/100\n",
            "1000/1000 [==============================] - 2s 2ms/step - loss: 0.0098 - accuracy: 0.9986\n",
            "Epoch 4/100\n",
            "1000/1000 [==============================] - 2s 2ms/step - loss: 0.0096 - accuracy: 0.9986\n",
            "Epoch 5/100\n",
            "1000/1000 [==============================] - 2s 2ms/step - loss: 0.0094 - accuracy: 0.9986\n",
            "Epoch 6/100\n",
            "1000/1000 [==============================] - 2s 2ms/step - loss: 0.0097 - accuracy: 0.9986\n",
            "Epoch 7/100\n",
            "1000/1000 [==============================] - 2s 2ms/step - loss: 0.0093 - accuracy: 0.9986\n",
            "Epoch 8/100\n",
            "1000/1000 [==============================] - 3s 3ms/step - loss: 0.0093 - accuracy: 0.9986\n",
            "Epoch 9/100\n",
            "1000/1000 [==============================] - 2s 2ms/step - loss: 0.0092 - accuracy: 0.9986\n",
            "Epoch 10/100\n",
            "1000/1000 [==============================] - 2s 2ms/step - loss: 0.0094 - accuracy: 0.9986\n",
            "Epoch 11/100\n",
            "1000/1000 [==============================] - 2s 2ms/step - loss: 0.0090 - accuracy: 0.9986\n",
            "Epoch 12/100\n",
            "1000/1000 [==============================] - 2s 2ms/step - loss: 0.0087 - accuracy: 0.9986\n",
            "Epoch 13/100\n",
            "1000/1000 [==============================] - 2s 2ms/step - loss: 0.0090 - accuracy: 0.9986\n",
            "Epoch 14/100\n",
            "1000/1000 [==============================] - 2s 2ms/step - loss: 0.0085 - accuracy: 0.9986\n",
            "Epoch 15/100\n",
            "1000/1000 [==============================] - 2s 2ms/step - loss: 0.0090 - accuracy: 0.9986\n",
            "Epoch 16/100\n",
            "1000/1000 [==============================] - 2s 2ms/step - loss: 0.0088 - accuracy: 0.9986\n",
            "Epoch 17/100\n",
            "1000/1000 [==============================] - 2s 2ms/step - loss: 0.0086 - accuracy: 0.9986\n",
            "Epoch 18/100\n",
            "1000/1000 [==============================] - 2s 2ms/step - loss: 0.0090 - accuracy: 0.9986\n",
            "Epoch 19/100\n",
            "1000/1000 [==============================] - 2s 2ms/step - loss: 0.0090 - accuracy: 0.9985\n",
            "Epoch 20/100\n",
            "1000/1000 [==============================] - 3s 3ms/step - loss: 0.0088 - accuracy: 0.9986\n",
            "Epoch 21/100\n",
            "1000/1000 [==============================] - 2s 2ms/step - loss: 0.0085 - accuracy: 0.9986\n",
            "Epoch 22/100\n",
            "1000/1000 [==============================] - 2s 2ms/step - loss: 0.0087 - accuracy: 0.9986\n",
            "Epoch 23/100\n",
            "1000/1000 [==============================] - 2s 2ms/step - loss: 0.0088 - accuracy: 0.9986\n",
            "Epoch 24/100\n",
            "1000/1000 [==============================] - 2s 2ms/step - loss: 0.0086 - accuracy: 0.9985\n",
            "Epoch 25/100\n",
            "1000/1000 [==============================] - 2s 2ms/step - loss: 0.0087 - accuracy: 0.9986\n",
            "Epoch 26/100\n",
            "1000/1000 [==============================] - 2s 2ms/step - loss: 0.0084 - accuracy: 0.9987\n",
            "Epoch 27/100\n",
            "1000/1000 [==============================] - 2s 2ms/step - loss: 0.0086 - accuracy: 0.9986\n",
            "Epoch 28/100\n",
            "1000/1000 [==============================] - 2s 2ms/step - loss: 0.0084 - accuracy: 0.9986\n",
            "Epoch 29/100\n",
            "1000/1000 [==============================] - 2s 2ms/step - loss: 0.0082 - accuracy: 0.9985\n",
            "Epoch 30/100\n",
            "1000/1000 [==============================] - 2s 2ms/step - loss: 0.0086 - accuracy: 0.9986\n",
            "Epoch 31/100\n",
            "1000/1000 [==============================] - 2s 2ms/step - loss: 0.0083 - accuracy: 0.9986\n",
            "Epoch 32/100\n",
            "1000/1000 [==============================] - 2s 2ms/step - loss: 0.0084 - accuracy: 0.9986\n",
            "Epoch 33/100\n",
            "1000/1000 [==============================] - 2s 2ms/step - loss: 0.0085 - accuracy: 0.9986\n",
            "Epoch 34/100\n",
            "1000/1000 [==============================] - 2s 2ms/step - loss: 0.0084 - accuracy: 0.9986\n",
            "Epoch 35/100\n",
            "1000/1000 [==============================] - 2s 2ms/step - loss: 0.0082 - accuracy: 0.9986\n",
            "Epoch 36/100\n",
            "1000/1000 [==============================] - 2s 2ms/step - loss: 0.0080 - accuracy: 0.9986\n",
            "Epoch 37/100\n",
            "1000/1000 [==============================] - 2s 2ms/step - loss: 0.0085 - accuracy: 0.9986\n",
            "Epoch 38/100\n",
            "1000/1000 [==============================] - 2s 2ms/step - loss: 0.0080 - accuracy: 0.9986\n",
            "Epoch 39/100\n",
            "1000/1000 [==============================] - 2s 2ms/step - loss: 0.0082 - accuracy: 0.9986\n",
            "Epoch 40/100\n",
            "1000/1000 [==============================] - 2s 2ms/step - loss: 0.0081 - accuracy: 0.9987\n",
            "Epoch 41/100\n",
            "1000/1000 [==============================] - 3s 3ms/step - loss: 0.0083 - accuracy: 0.9986\n",
            "Epoch 42/100\n",
            "1000/1000 [==============================] - 2s 2ms/step - loss: 0.0081 - accuracy: 0.9986\n",
            "Epoch 43/100\n",
            "1000/1000 [==============================] - 2s 2ms/step - loss: 0.0079 - accuracy: 0.9987\n",
            "Epoch 44/100\n",
            "1000/1000 [==============================] - 2s 2ms/step - loss: 0.0083 - accuracy: 0.9987\n",
            "Epoch 45/100\n",
            "1000/1000 [==============================] - 2s 2ms/step - loss: 0.0081 - accuracy: 0.9986\n",
            "Epoch 46/100\n",
            "1000/1000 [==============================] - 2s 2ms/step - loss: 0.0081 - accuracy: 0.9986\n",
            "Epoch 47/100\n",
            "1000/1000 [==============================] - 2s 2ms/step - loss: 0.0078 - accuracy: 0.9986\n",
            "Epoch 48/100\n",
            "1000/1000 [==============================] - 3s 3ms/step - loss: 0.0080 - accuracy: 0.9987\n",
            "Epoch 49/100\n",
            "1000/1000 [==============================] - 2s 2ms/step - loss: 0.0082 - accuracy: 0.9986\n",
            "Epoch 50/100\n",
            "1000/1000 [==============================] - 2s 2ms/step - loss: 0.0081 - accuracy: 0.9985\n",
            "Epoch 51/100\n",
            "1000/1000 [==============================] - 2s 2ms/step - loss: 0.0077 - accuracy: 0.9986\n",
            "Epoch 52/100\n",
            "1000/1000 [==============================] - 2s 2ms/step - loss: 0.0079 - accuracy: 0.9985\n",
            "Epoch 53/100\n",
            "1000/1000 [==============================] - 2s 2ms/step - loss: 0.0079 - accuracy: 0.9986\n",
            "Epoch 54/100\n",
            "1000/1000 [==============================] - 2s 2ms/step - loss: 0.0080 - accuracy: 0.9986\n",
            "Epoch 55/100\n",
            "1000/1000 [==============================] - 2s 2ms/step - loss: 0.0076 - accuracy: 0.9987\n",
            "Epoch 56/100\n",
            "1000/1000 [==============================] - 2s 2ms/step - loss: 0.0080 - accuracy: 0.9986\n",
            "Epoch 57/100\n",
            "1000/1000 [==============================] - 2s 2ms/step - loss: 0.0077 - accuracy: 0.9985\n",
            "Epoch 58/100\n",
            "1000/1000 [==============================] - 2s 2ms/step - loss: 0.0078 - accuracy: 0.9986\n",
            "Epoch 59/100\n",
            "1000/1000 [==============================] - 2s 2ms/step - loss: 0.0077 - accuracy: 0.9986\n",
            "Epoch 60/100\n",
            "1000/1000 [==============================] - 2s 2ms/step - loss: 0.0074 - accuracy: 0.9986\n",
            "Epoch 61/100\n",
            "1000/1000 [==============================] - 2s 2ms/step - loss: 0.0075 - accuracy: 0.9987\n",
            "Epoch 62/100\n",
            "1000/1000 [==============================] - 2s 2ms/step - loss: 0.0077 - accuracy: 0.9986\n",
            "Epoch 63/100\n",
            "1000/1000 [==============================] - 2s 2ms/step - loss: 0.0076 - accuracy: 0.9986\n",
            "Epoch 64/100\n",
            "1000/1000 [==============================] - 4s 4ms/step - loss: 0.0076 - accuracy: 0.9987\n",
            "Epoch 65/100\n",
            "1000/1000 [==============================] - 7s 7ms/step - loss: 0.0074 - accuracy: 0.9986\n",
            "Epoch 66/100\n",
            "1000/1000 [==============================] - 6s 6ms/step - loss: 0.0075 - accuracy: 0.9986\n",
            "Epoch 67/100\n",
            "1000/1000 [==============================] - 3s 3ms/step - loss: 0.0074 - accuracy: 0.9986\n",
            "Epoch 68/100\n",
            "1000/1000 [==============================] - 2s 2ms/step - loss: 0.0076 - accuracy: 0.9987\n",
            "Epoch 69/100\n",
            "1000/1000 [==============================] - 3s 3ms/step - loss: 0.0074 - accuracy: 0.9986\n",
            "Epoch 70/100\n",
            "1000/1000 [==============================] - 3s 3ms/step - loss: 0.0075 - accuracy: 0.9987\n",
            "Epoch 71/100\n",
            "1000/1000 [==============================] - 2s 2ms/step - loss: 0.0074 - accuracy: 0.9987\n",
            "Epoch 72/100\n",
            "1000/1000 [==============================] - 2s 2ms/step - loss: 0.0074 - accuracy: 0.9986\n",
            "Epoch 73/100\n",
            "1000/1000 [==============================] - 2s 2ms/step - loss: 0.0072 - accuracy: 0.9986\n",
            "Epoch 74/100\n",
            "1000/1000 [==============================] - 3s 3ms/step - loss: 0.0073 - accuracy: 0.9986\n",
            "Epoch 75/100\n",
            "1000/1000 [==============================] - 2s 2ms/step - loss: 0.0072 - accuracy: 0.9987\n",
            "Epoch 76/100\n",
            "1000/1000 [==============================] - 2s 2ms/step - loss: 0.0071 - accuracy: 0.9986\n",
            "Epoch 77/100\n",
            "1000/1000 [==============================] - 2s 2ms/step - loss: 0.0076 - accuracy: 0.9985\n",
            "Epoch 78/100\n",
            "1000/1000 [==============================] - 2s 2ms/step - loss: 0.0070 - accuracy: 0.9986\n",
            "Epoch 79/100\n",
            "1000/1000 [==============================] - 2s 2ms/step - loss: 0.0073 - accuracy: 0.9987\n",
            "Epoch 80/100\n",
            "1000/1000 [==============================] - 2s 2ms/step - loss: 0.0070 - accuracy: 0.9985\n",
            "Epoch 81/100\n",
            "1000/1000 [==============================] - 2s 2ms/step - loss: 0.0073 - accuracy: 0.9986\n",
            "Epoch 82/100\n",
            "1000/1000 [==============================] - 2s 2ms/step - loss: 0.0069 - accuracy: 0.9987\n",
            "Epoch 83/100\n",
            "1000/1000 [==============================] - 2s 2ms/step - loss: 0.0071 - accuracy: 0.9987\n",
            "Epoch 84/100\n",
            "1000/1000 [==============================] - 2s 2ms/step - loss: 0.0068 - accuracy: 0.9987\n",
            "Epoch 85/100\n",
            "1000/1000 [==============================] - 2s 2ms/step - loss: 0.0069 - accuracy: 0.9987\n",
            "Epoch 86/100\n",
            "1000/1000 [==============================] - 2s 2ms/step - loss: 0.0067 - accuracy: 0.9987\n",
            "Epoch 87/100\n",
            "1000/1000 [==============================] - 2s 2ms/step - loss: 0.0065 - accuracy: 0.9987\n",
            "Epoch 88/100\n",
            "1000/1000 [==============================] - 2s 2ms/step - loss: 0.0067 - accuracy: 0.9985\n",
            "Epoch 89/100\n",
            "1000/1000 [==============================] - 2s 2ms/step - loss: 0.0066 - accuracy: 0.9987\n",
            "Epoch 90/100\n",
            "1000/1000 [==============================] - 2s 2ms/step - loss: 0.0068 - accuracy: 0.9987\n",
            "Epoch 91/100\n",
            "1000/1000 [==============================] - 2s 2ms/step - loss: 0.0064 - accuracy: 0.9987\n",
            "Epoch 92/100\n",
            "1000/1000 [==============================] - 2s 2ms/step - loss: 0.0066 - accuracy: 0.9986\n",
            "Epoch 93/100\n",
            "1000/1000 [==============================] - 2s 2ms/step - loss: 0.0064 - accuracy: 0.9987\n",
            "Epoch 94/100\n",
            "1000/1000 [==============================] - 2s 2ms/step - loss: 0.0064 - accuracy: 0.9986\n",
            "Epoch 95/100\n",
            "1000/1000 [==============================] - 2s 2ms/step - loss: 0.0062 - accuracy: 0.9987\n",
            "Epoch 96/100\n",
            "1000/1000 [==============================] - 2s 2ms/step - loss: 0.0064 - accuracy: 0.9987\n",
            "Epoch 97/100\n",
            "1000/1000 [==============================] - 2s 2ms/step - loss: 0.0062 - accuracy: 0.9987\n",
            "Epoch 98/100\n",
            "1000/1000 [==============================] - 2s 2ms/step - loss: 0.0061 - accuracy: 0.9986\n",
            "Epoch 99/100\n",
            "1000/1000 [==============================] - 2s 2ms/step - loss: 0.0059 - accuracy: 0.9987\n",
            "Epoch 100/100\n",
            "1000/1000 [==============================] - 2s 2ms/step - loss: 0.0060 - accuracy: 0.9987\n"
          ]
        },
        {
          "output_type": "execute_result",
          "data": {
            "text/plain": [
              "<keras.src.callbacks.History at 0x7d4089e26680>"
            ]
          },
          "metadata": {},
          "execution_count": 27
        }
      ]
    },
    {
      "cell_type": "code",
      "source": [
        "y_pred = classifier.predict(X_train)\n",
        "y_pred = (y_pred > 0.5)"
      ],
      "metadata": {
        "id": "0NubCdaACqkD",
        "colab": {
          "base_uri": "https://localhost:8080/"
        },
        "outputId": "b289cc97-51fd-4e89-e377-d6cf2213cbdc"
      },
      "execution_count": 28,
      "outputs": [
        {
          "output_type": "stream",
          "name": "stdout",
          "text": [
            "313/313 [==============================] - 1s 1ms/step\n"
          ]
        }
      ]
    },
    {
      "cell_type": "code",
      "source": [
        "from sklearn.metrics import confusion_matrix, accuracy_score\n",
        "cm = confusion_matrix(Y_train, y_pred)\n",
        "print(cm)\n",
        "accuracy_score(Y_train,y_pred)"
      ],
      "metadata": {
        "id": "RxHVblByOUKd",
        "colab": {
          "base_uri": "https://localhost:8080/"
        },
        "outputId": "7e4441ea-7750-4e09-bccb-7dc3e4e3b489"
      },
      "execution_count": 29,
      "outputs": [
        {
          "output_type": "stream",
          "name": "stdout",
          "text": [
            "[[7953    9]\n",
            " [   4 2034]]\n"
          ]
        },
        {
          "output_type": "execute_result",
          "data": {
            "text/plain": [
              "0.9987"
            ]
          },
          "metadata": {},
          "execution_count": 29
        }
      ]
    },
    {
      "cell_type": "code",
      "source": [],
      "metadata": {
        "id": "eLPu6dyoUKu5"
      },
      "execution_count": null,
      "outputs": []
    }
  ]
}